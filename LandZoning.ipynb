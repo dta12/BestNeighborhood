{
 "metadata": {
  "language_info": {
   "codemirror_mode": {
    "name": "ipython",
    "version": 3
   },
   "file_extension": ".py",
   "mimetype": "text/x-python",
   "name": "python",
   "nbconvert_exporter": "python",
   "pygments_lexer": "ipython3",
   "version": "3.8.5-final"
  },
  "orig_nbformat": 2,
  "kernelspec": {
   "name": "Python 3.8.5 64-bit",
   "display_name": "Python 3.8.5 64-bit",
   "metadata": {
    "interpreter": {
     "hash": "767d51c1340bd893661ea55ea3124f6de3c7a262a8b4abca0554b478b1e2ff90"
    }
   }
  }
 },
 "nbformat": 4,
 "nbformat_minor": 2,
 "cells": [
  {
   "cell_type": "code",
   "execution_count": 1,
   "metadata": {},
   "outputs": [],
   "source": [
    "import pandas as pd"
   ]
  },
  {
   "cell_type": "code",
   "execution_count": 6,
   "metadata": {},
   "outputs": [
    {
     "output_type": "execute_result",
     "data": {
      "text/plain": "           Neighborhood  Sector # Population (2010) Land Area (acres)  \\\n0      Allegheny Center         3               933             134.4   \n1        Allegheny West         3               462              90.2   \n2             Allentown         6             2,500             188.8   \n3             Arlington         7             1,869             300.8   \n4     Arlington Heights         7               244              84.5   \n..                  ...       ...               ...               ...   \n85  Upper Lawrenceville        13             2,669             259.2   \n86             West End         4               254             128.0   \n87         West Oakland        14             2,604             137.6   \n88             Westwood         4             3,066             442.9   \n89              Windgap         4             1,369             265.6   \n\n   Residential Mixed Use / Commercial Mixed Use / Industrial  \\\n0         0.0%                  49.4%                   0.0%   \n1        42.1%                  12.5%                   6.3%   \n2        54.6%                   9.3%                   0.0%   \n3        43.7%                   3.8%                  10.9%   \n4        56.5%                   0.0%                   0.0%   \n..         ...                    ...                    ...   \n85       24.4%                   9.1%                  53.0%   \n86        0.8%                  29.2%                  16.3%   \n87       25.5%                   3.9%                   0.0%   \n88       71.9%                   7.3%                   5.4%   \n89       62.8%                   0.5%                  11.6%   \n\n   Institutional / Edu. / Med. Open Space Hillside Special Land Use  \n0                         0.0%      50.6%     0.0%             0.0%  \n1                        26.4%      12.6%     0.0%             0.0%  \n2                         0.0%      18.5%    17.6%             0.0%  \n3                         0.0%      41.6%     0.0%             0.0%  \n4                         0.0%      43.4%     0.0%             0.0%  \n..                         ...        ...      ...              ...  \n85                        0.0%       1.2%    12.3%             0.0%  \n86                        0.0%       8.2%    45.5%             0.0%  \n87                       42.1%       0.1%    26.4%             2.0%  \n88                        0.0%       1.7%    13.8%             0.0%  \n89                        0.0%      25.1%     0.0%             0.0%  \n\n[90 rows x 11 columns]",
      "text/html": "<div>\n<style scoped>\n    .dataframe tbody tr th:only-of-type {\n        vertical-align: middle;\n    }\n\n    .dataframe tbody tr th {\n        vertical-align: top;\n    }\n\n    .dataframe thead th {\n        text-align: right;\n    }\n</style>\n<table border=\"1\" class=\"dataframe\">\n  <thead>\n    <tr style=\"text-align: right;\">\n      <th></th>\n      <th>Neighborhood</th>\n      <th>Sector #</th>\n      <th>Population (2010)</th>\n      <th>Land Area (acres)</th>\n      <th>Residential</th>\n      <th>Mixed Use / Commercial</th>\n      <th>Mixed Use / Industrial</th>\n      <th>Institutional / Edu. / Med.</th>\n      <th>Open Space</th>\n      <th>Hillside</th>\n      <th>Special Land Use</th>\n    </tr>\n  </thead>\n  <tbody>\n    <tr>\n      <th>0</th>\n      <td>Allegheny Center</td>\n      <td>3</td>\n      <td>933</td>\n      <td>134.4</td>\n      <td>0.0%</td>\n      <td>49.4%</td>\n      <td>0.0%</td>\n      <td>0.0%</td>\n      <td>50.6%</td>\n      <td>0.0%</td>\n      <td>0.0%</td>\n    </tr>\n    <tr>\n      <th>1</th>\n      <td>Allegheny West</td>\n      <td>3</td>\n      <td>462</td>\n      <td>90.2</td>\n      <td>42.1%</td>\n      <td>12.5%</td>\n      <td>6.3%</td>\n      <td>26.4%</td>\n      <td>12.6%</td>\n      <td>0.0%</td>\n      <td>0.0%</td>\n    </tr>\n    <tr>\n      <th>2</th>\n      <td>Allentown</td>\n      <td>6</td>\n      <td>2,500</td>\n      <td>188.8</td>\n      <td>54.6%</td>\n      <td>9.3%</td>\n      <td>0.0%</td>\n      <td>0.0%</td>\n      <td>18.5%</td>\n      <td>17.6%</td>\n      <td>0.0%</td>\n    </tr>\n    <tr>\n      <th>3</th>\n      <td>Arlington</td>\n      <td>7</td>\n      <td>1,869</td>\n      <td>300.8</td>\n      <td>43.7%</td>\n      <td>3.8%</td>\n      <td>10.9%</td>\n      <td>0.0%</td>\n      <td>41.6%</td>\n      <td>0.0%</td>\n      <td>0.0%</td>\n    </tr>\n    <tr>\n      <th>4</th>\n      <td>Arlington Heights</td>\n      <td>7</td>\n      <td>244</td>\n      <td>84.5</td>\n      <td>56.5%</td>\n      <td>0.0%</td>\n      <td>0.0%</td>\n      <td>0.0%</td>\n      <td>43.4%</td>\n      <td>0.0%</td>\n      <td>0.0%</td>\n    </tr>\n    <tr>\n      <th>...</th>\n      <td>...</td>\n      <td>...</td>\n      <td>...</td>\n      <td>...</td>\n      <td>...</td>\n      <td>...</td>\n      <td>...</td>\n      <td>...</td>\n      <td>...</td>\n      <td>...</td>\n      <td>...</td>\n    </tr>\n    <tr>\n      <th>85</th>\n      <td>Upper Lawrenceville</td>\n      <td>13</td>\n      <td>2,669</td>\n      <td>259.2</td>\n      <td>24.4%</td>\n      <td>9.1%</td>\n      <td>53.0%</td>\n      <td>0.0%</td>\n      <td>1.2%</td>\n      <td>12.3%</td>\n      <td>0.0%</td>\n    </tr>\n    <tr>\n      <th>86</th>\n      <td>West End</td>\n      <td>4</td>\n      <td>254</td>\n      <td>128.0</td>\n      <td>0.8%</td>\n      <td>29.2%</td>\n      <td>16.3%</td>\n      <td>0.0%</td>\n      <td>8.2%</td>\n      <td>45.5%</td>\n      <td>0.0%</td>\n    </tr>\n    <tr>\n      <th>87</th>\n      <td>West Oakland</td>\n      <td>14</td>\n      <td>2,604</td>\n      <td>137.6</td>\n      <td>25.5%</td>\n      <td>3.9%</td>\n      <td>0.0%</td>\n      <td>42.1%</td>\n      <td>0.1%</td>\n      <td>26.4%</td>\n      <td>2.0%</td>\n    </tr>\n    <tr>\n      <th>88</th>\n      <td>Westwood</td>\n      <td>4</td>\n      <td>3,066</td>\n      <td>442.9</td>\n      <td>71.9%</td>\n      <td>7.3%</td>\n      <td>5.4%</td>\n      <td>0.0%</td>\n      <td>1.7%</td>\n      <td>13.8%</td>\n      <td>0.0%</td>\n    </tr>\n    <tr>\n      <th>89</th>\n      <td>Windgap</td>\n      <td>4</td>\n      <td>1,369</td>\n      <td>265.6</td>\n      <td>62.8%</td>\n      <td>0.5%</td>\n      <td>11.6%</td>\n      <td>0.0%</td>\n      <td>25.1%</td>\n      <td>0.0%</td>\n      <td>0.0%</td>\n    </tr>\n  </tbody>\n</table>\n<p>90 rows × 11 columns</p>\n</div>"
     },
     "metadata": {},
     "execution_count": 6
    }
   ],
   "source": [
    "landZoning = pd.read_csv(\"./data/land-use-zoning.csv\")\n",
    "landZoning"
   ]
  },
  {
   "cell_type": "code",
   "execution_count": null,
   "metadata": {},
   "outputs": [],
   "source": []
  }
 ]
}