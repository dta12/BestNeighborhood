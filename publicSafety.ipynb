{
 "metadata": {
  "language_info": {
   "codemirror_mode": {
    "name": "ipython",
    "version": 3
   },
   "file_extension": ".py",
   "mimetype": "text/x-python",
   "name": "python",
   "nbconvert_exporter": "python",
   "pygments_lexer": "ipython3",
   "version": "3.8.5-final"
  },
  "orig_nbformat": 2,
  "kernelspec": {
   "name": "Python 3.8.5 64-bit",
   "display_name": "Python 3.8.5 64-bit",
   "metadata": {
    "interpreter": {
     "hash": "767d51c1340bd893661ea55ea3124f6de3c7a262a8b4abca0554b478b1e2ff90"
    }
   }
  }
 },
 "nbformat": 4,
 "nbformat_minor": 2,
 "cells": [
  {
   "cell_type": "code",
   "execution_count": 1,
   "metadata": {},
   "outputs": [],
   "source": [
    "import pandas as pd"
   ]
  },
  {
   "cell_type": "code",
   "execution_count": 3,
   "metadata": {},
   "outputs": [
    {
     "output_type": "execute_result",
     "data": {
      "text/plain": "           Neighborhood  Sector # Population (2010)  \\\n0      Allegheny Center         3               933   \n1        Allegheny West         3               462   \n2             Allentown         6             2,500   \n3             Arlington         7             1,869   \n4     Arlington Heights         7               244   \n..                  ...       ...               ...   \n85  Upper Lawrenceville        13             2,669   \n86             West End         4               254   \n87         West Oakland        14             2,604   \n88             Westwood         4             3,066   \n89              Windgap         4             1,369   \n\n    #Part 1 (Major Crime) Reports (2010)  #Part 2 Reports (2010)  \\\n0                                     71                     141   \n1                                     38                      49   \n2                                    159                     252   \n3                                     50                      84   \n4                                     19                      37   \n..                                   ...                     ...   \n85                                    92                     184   \n86                                    23                      54   \n87                                    82                      65   \n88                                    57                      53   \n89                                    41                      40   \n\n    #Other Police Reports (2010)  Part 1 Crime per 100 Persons (2010)  \\\n0                             46                                  7.6   \n1                             31                                  8.2   \n2                            160                                  6.4   \n3                             48                                  2.7   \n4                             24                                  7.8   \n..                           ...                                  ...   \n85                            73                                  3.4   \n86                            66                                  9.1   \n87                            80                                  3.1   \n88                            44                                  1.9   \n89                            28                                  3.0   \n\n    Part 2 Crime per 100 Persons (2010)  #Murder (2010)  #Rape (2010)  \\\n0                                  15.1               0             2   \n1                                  10.6               1             0   \n2                                  10.1               0             2   \n3                                   4.5               0             1   \n4                                  15.2               0             0   \n..                                  ...             ...           ...   \n85                                  6.9               0             0   \n86                                 21.3               0             1   \n87                                  2.5               1             1   \n88                                  1.7               0             1   \n89                                  2.9               1             0   \n\n    #Robbery (2010)  #Agr. Assault (2010)  #Burglary (2010)  \\\n0                 9                     5                 8   \n1                 4                     6                 6   \n2                15                    23                48   \n3                 8                     5                15   \n4                 4                     5                 5   \n..              ...                   ...               ...   \n85               12                     9                24   \n86                2                     3                 7   \n87               13                     4                14   \n88                1                     4                17   \n89                4                     1                 8   \n\n    #Auto Theft (2010)  #Drug Violations (2010)  \n0                    5                       31  \n1                    4                       12  \n2                   11                       66  \n3                    7                        9  \n4                    3                        7  \n..                 ...                      ...  \n85                  12                       29  \n86                   3                       30  \n87                   8                       13  \n88                   6                        3  \n89                   7                        5  \n\n[90 rows x 15 columns]",
      "text/html": "<div>\n<style scoped>\n    .dataframe tbody tr th:only-of-type {\n        vertical-align: middle;\n    }\n\n    .dataframe tbody tr th {\n        vertical-align: top;\n    }\n\n    .dataframe thead th {\n        text-align: right;\n    }\n</style>\n<table border=\"1\" class=\"dataframe\">\n  <thead>\n    <tr style=\"text-align: right;\">\n      <th></th>\n      <th>Neighborhood</th>\n      <th>Sector #</th>\n      <th>Population (2010)</th>\n      <th>#Part 1 (Major Crime) Reports (2010)</th>\n      <th>#Part 2 Reports (2010)</th>\n      <th>#Other Police Reports (2010)</th>\n      <th>Part 1 Crime per 100 Persons (2010)</th>\n      <th>Part 2 Crime per 100 Persons (2010)</th>\n      <th>#Murder (2010)</th>\n      <th>#Rape (2010)</th>\n      <th>#Robbery (2010)</th>\n      <th>#Agr. Assault (2010)</th>\n      <th>#Burglary (2010)</th>\n      <th>#Auto Theft (2010)</th>\n      <th>#Drug Violations (2010)</th>\n    </tr>\n  </thead>\n  <tbody>\n    <tr>\n      <th>0</th>\n      <td>Allegheny Center</td>\n      <td>3</td>\n      <td>933</td>\n      <td>71</td>\n      <td>141</td>\n      <td>46</td>\n      <td>7.6</td>\n      <td>15.1</td>\n      <td>0</td>\n      <td>2</td>\n      <td>9</td>\n      <td>5</td>\n      <td>8</td>\n      <td>5</td>\n      <td>31</td>\n    </tr>\n    <tr>\n      <th>1</th>\n      <td>Allegheny West</td>\n      <td>3</td>\n      <td>462</td>\n      <td>38</td>\n      <td>49</td>\n      <td>31</td>\n      <td>8.2</td>\n      <td>10.6</td>\n      <td>1</td>\n      <td>0</td>\n      <td>4</td>\n      <td>6</td>\n      <td>6</td>\n      <td>4</td>\n      <td>12</td>\n    </tr>\n    <tr>\n      <th>2</th>\n      <td>Allentown</td>\n      <td>6</td>\n      <td>2,500</td>\n      <td>159</td>\n      <td>252</td>\n      <td>160</td>\n      <td>6.4</td>\n      <td>10.1</td>\n      <td>0</td>\n      <td>2</td>\n      <td>15</td>\n      <td>23</td>\n      <td>48</td>\n      <td>11</td>\n      <td>66</td>\n    </tr>\n    <tr>\n      <th>3</th>\n      <td>Arlington</td>\n      <td>7</td>\n      <td>1,869</td>\n      <td>50</td>\n      <td>84</td>\n      <td>48</td>\n      <td>2.7</td>\n      <td>4.5</td>\n      <td>0</td>\n      <td>1</td>\n      <td>8</td>\n      <td>5</td>\n      <td>15</td>\n      <td>7</td>\n      <td>9</td>\n    </tr>\n    <tr>\n      <th>4</th>\n      <td>Arlington Heights</td>\n      <td>7</td>\n      <td>244</td>\n      <td>19</td>\n      <td>37</td>\n      <td>24</td>\n      <td>7.8</td>\n      <td>15.2</td>\n      <td>0</td>\n      <td>0</td>\n      <td>4</td>\n      <td>5</td>\n      <td>5</td>\n      <td>3</td>\n      <td>7</td>\n    </tr>\n    <tr>\n      <th>...</th>\n      <td>...</td>\n      <td>...</td>\n      <td>...</td>\n      <td>...</td>\n      <td>...</td>\n      <td>...</td>\n      <td>...</td>\n      <td>...</td>\n      <td>...</td>\n      <td>...</td>\n      <td>...</td>\n      <td>...</td>\n      <td>...</td>\n      <td>...</td>\n      <td>...</td>\n    </tr>\n    <tr>\n      <th>85</th>\n      <td>Upper Lawrenceville</td>\n      <td>13</td>\n      <td>2,669</td>\n      <td>92</td>\n      <td>184</td>\n      <td>73</td>\n      <td>3.4</td>\n      <td>6.9</td>\n      <td>0</td>\n      <td>0</td>\n      <td>12</td>\n      <td>9</td>\n      <td>24</td>\n      <td>12</td>\n      <td>29</td>\n    </tr>\n    <tr>\n      <th>86</th>\n      <td>West End</td>\n      <td>4</td>\n      <td>254</td>\n      <td>23</td>\n      <td>54</td>\n      <td>66</td>\n      <td>9.1</td>\n      <td>21.3</td>\n      <td>0</td>\n      <td>1</td>\n      <td>2</td>\n      <td>3</td>\n      <td>7</td>\n      <td>3</td>\n      <td>30</td>\n    </tr>\n    <tr>\n      <th>87</th>\n      <td>West Oakland</td>\n      <td>14</td>\n      <td>2,604</td>\n      <td>82</td>\n      <td>65</td>\n      <td>80</td>\n      <td>3.1</td>\n      <td>2.5</td>\n      <td>1</td>\n      <td>1</td>\n      <td>13</td>\n      <td>4</td>\n      <td>14</td>\n      <td>8</td>\n      <td>13</td>\n    </tr>\n    <tr>\n      <th>88</th>\n      <td>Westwood</td>\n      <td>4</td>\n      <td>3,066</td>\n      <td>57</td>\n      <td>53</td>\n      <td>44</td>\n      <td>1.9</td>\n      <td>1.7</td>\n      <td>0</td>\n      <td>1</td>\n      <td>1</td>\n      <td>4</td>\n      <td>17</td>\n      <td>6</td>\n      <td>3</td>\n    </tr>\n    <tr>\n      <th>89</th>\n      <td>Windgap</td>\n      <td>4</td>\n      <td>1,369</td>\n      <td>41</td>\n      <td>40</td>\n      <td>28</td>\n      <td>3.0</td>\n      <td>2.9</td>\n      <td>1</td>\n      <td>0</td>\n      <td>4</td>\n      <td>1</td>\n      <td>8</td>\n      <td>7</td>\n      <td>5</td>\n    </tr>\n  </tbody>\n</table>\n<p>90 rows × 15 columns</p>\n</div>"
     },
     "metadata": {},
     "execution_count": 3
    }
   ],
   "source": [
    "publicSafety = pd.read_csv(\"./data/public-safety.csv\")\n",
    "publicSafety"
   ]
  },
  {
   "cell_type": "code",
   "execution_count": null,
   "metadata": {},
   "outputs": [],
   "source": []
  }
 ]
}
